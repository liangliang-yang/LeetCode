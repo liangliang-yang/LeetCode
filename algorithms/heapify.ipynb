{
 "cells": [
  {
   "cell_type": "markdown",
   "metadata": {},
   "source": [
    "* https://www.romaglushko.com/blog/heapify/\n",
    "\n",
    "* https://medium.com/@hs_pedro/implementing-a-heap-in-python-1036e759e0eb"
   ]
  },
  {
   "cell_type": "code",
   "execution_count": 26,
   "metadata": {},
   "outputs": [],
   "source": [
    "from typing import List\n",
    " \n",
    " \n",
    "class PriorityQueue:\n",
    "    \"\"\"\n",
    "    Represents the heap and preserves the heap property during adding/removing elements\n",
    "    \"\"\"\n",
    " \n",
    "    def __init__(self, items):\n",
    "        self.items = self.heapify(items)\n",
    " \n",
    "    def heapify(self, items):\n",
    "        \"\"\"\n",
    "        Turn an unsorted array into a heap\n",
    "        \"\"\"\n",
    "        items_count = len(items)\n",
    " \n",
    "        for i in range(items_count // 2, -1, -1):\n",
    "            items = self.heapAdjust(items, i)\n",
    " \n",
    "        return items\n",
    " \n",
    "    # 从 node_idx 开始调整 \n",
    "    def heapAdjust(self, items, node_idx, root_idx=0):\n",
    "        \"\"\"\n",
    "        Check and fix violations of the heap property recursively\n",
    "        \"\"\"\n",
    "        items_count = len(items)\n",
    "        largest_idx = node_idx\n",
    " \n",
    "        # formulas for zero-indexed arrays\n",
    "        left_child_idx = 2 * (node_idx - root_idx) + 1 + root_idx\n",
    "        right_child_idx = 2 * (node_idx - root_idx) + 2 + root_idx\n",
    " \n",
    "        # is the left child node bigger than parent node?\n",
    "        if left_child_idx < items_count and items[left_child_idx] > items[largest_idx]:\n",
    "            largest_idx = left_child_idx\n",
    " \n",
    "        # is the right child node bigger than parent or left node?\n",
    "        if right_child_idx < items_count and items[right_child_idx] > items[largest_idx]:\n",
    "            largest_idx = right_child_idx\n",
    " \n",
    "        # let's fix a violation of the heap property\n",
    "        if largest_idx != node_idx:\n",
    "            items[node_idx], items[largest_idx] = items[largest_idx], items[node_idx]\n",
    " \n",
    "            return self.heapAdjust(items, largest_idx, root_idx=root_idx)\n",
    " \n",
    "        return items\n",
    " \n",
    "    def size(self) -> int:\n",
    "        return len(self.items)\n",
    "    \n",
    "\n",
    "    def push(self, item: int):\n",
    "        \"\"\"\n",
    "        Add a new item to the heap preserving the heap property\n",
    "        \"\"\"\n",
    "        self.items.append(item)\n",
    "    \n",
    "        idx = len(self.items) - 1\n",
    "        parent_idx = idx // 2\n",
    "    \n",
    "        if idx % 2 == 0:\n",
    "            # calculating parents in zero-indexed array\n",
    "            parent_idx -= 1\n",
    "    \n",
    "        while idx > 0 and self.items[idx] > self.items[parent_idx]:\n",
    "            tmp = self.items[parent_idx]\n",
    "            self.items[parent_idx] = self.items[idx]\n",
    "            self.items[idx] = tmp\n",
    "    \n",
    "            idx = parent_idx\n",
    "            parent_idx = idx // 2\n",
    "    \n",
    "            if idx % 2 == 0:\n",
    "                # calculating parents in zero-indexed array\n",
    "                parent_idx -= 1\n",
    "\n",
    "    def pop(self):\n",
    "        \"\"\"\n",
    "        Extract the next item from the heap according to priority (the next biggest element in our max heap case)\n",
    "        \"\"\"\n",
    "        item = self.items[0]\n",
    "    \n",
    "        items_count = len(self.items)\n",
    "        self.items[0] = self.items[items_count - 1]  # replace extracted max element with one of the balanced leaves\n",
    "        del self.items[items_count - 1]\n",
    "    \n",
    "        self.items = self.heapAdjust(self.items, 0)\n",
    "    \n",
    "        return item\n",
    "    "
   ]
  },
  {
   "cell_type": "code",
   "execution_count": 27,
   "metadata": {},
   "outputs": [],
   "source": [
    "items = [2, 7, 26, 25, 19, 17, 1, 90, 3, 36]"
   ]
  },
  {
   "cell_type": "code",
   "execution_count": 28,
   "metadata": {},
   "outputs": [],
   "source": [
    "PQ = PriorityQueue(items)\n",
    "\n"
   ]
  },
  {
   "cell_type": "code",
   "execution_count": 29,
   "metadata": {},
   "outputs": [
    {
     "data": {
      "text/plain": [
       "90"
      ]
     },
     "execution_count": 29,
     "metadata": {},
     "output_type": "execute_result"
    }
   ],
   "source": [
    "PQ.pop()"
   ]
  },
  {
   "cell_type": "code",
   "execution_count": 30,
   "metadata": {},
   "outputs": [],
   "source": [
    "PQ.push(90)"
   ]
  },
  {
   "cell_type": "code",
   "execution_count": 31,
   "metadata": {},
   "outputs": [
    {
     "data": {
      "text/plain": [
       "[90, 36, 26, 7, 25, 17, 1, 2, 3, 19]"
      ]
     },
     "execution_count": 31,
     "metadata": {},
     "output_type": "execute_result"
    }
   ],
   "source": [
    "PQ.items"
   ]
  },
  {
   "cell_type": "code",
   "execution_count": 54,
   "metadata": {},
   "outputs": [],
   "source": [
    "class Heapq:\n",
    "\n",
    "    def __init__(self, nums):\n",
    "        self.nums = self.heapify(nums)\n",
    "\n",
    "    # 堆调整方法：调整为大顶堆\n",
    "    def heapAdjust(self, nums, index):\n",
    "\n",
    "        items_count = len(nums) #一共这么多节点\n",
    "        left = index * 2 + 1\n",
    "        right = left + 1\n",
    "\n",
    "        # 当前节点为非叶子结点, 不然 left 会超出 items_count\n",
    "        # 就是 左边不为空， 这里不需要判断right因为 可以左边不空右边空， 只有一片叶子\n",
    "        while left < items_count:  \n",
    "           \n",
    "            max_index = index #先假设房前是最大的， 后面来判断是不是 left/right更大\n",
    "            if nums[left] > nums[max_index]: #假如 left 更大， 那就更改\n",
    "                max_index = left\n",
    "\n",
    "            if right < items_count and nums[right] > nums[max_index]: # 因为 right可以为空， 所有需要单独判断 right < items_count\n",
    "                max_index = right\n",
    "\n",
    "            if index == max_index:\n",
    "                # 如果不用交换，则说明已经交换结束\n",
    "                break\n",
    "            \n",
    "            # index != max_index:\n",
    "            nums[index], nums[max_index] = nums[max_index], nums[index] # 交换\n",
    "            # 继续调整子树\n",
    "            index = max_index\n",
    "            left = index * 2 + 1\n",
    "            right = left + 1\n",
    "        \n",
    "        return nums\n",
    "    \n",
    "    # 将数组构建为二叉堆\n",
    "    def heapify(self, nums):\n",
    "        size = len(nums)\n",
    "        # (size - 2) // 2 是最后一个非叶节点，叶节点不用调整\n",
    "        for i in range(size // 2, -1, -1):\n",
    "            # 调用调整堆函数\n",
    "            nums = self.heapAdjust(nums, i)\n",
    "        return nums\n",
    "    \n",
    "    # 入队操作\n",
    "    def heappush(self, nums, value):\n",
    "        nums.append(value)\n",
    "        size = len(nums)\n",
    "        i = size - 1\n",
    "        # 寻找插入位置\n",
    "        while (i - 1) // 2 >= 0:\n",
    "            cur_root = (i - 1) // 2\n",
    "            # value 小于当前根节点，则插入到当前位置\n",
    "            if nums[cur_root] > value:\n",
    "                break\n",
    "            # 继续向上查找\n",
    "            nums[i] = nums[cur_root]\n",
    "            i = cur_root\n",
    "        # 找到插入位置或者到达根位置，将其插入\n",
    "        nums[i] = value\n",
    "                \n",
    "    # 出队操作\n",
    "    def heappop(self, nums):\n",
    "        size = len(nums)\n",
    "        nums[0], nums[-1] = nums[-1], nums[0]\n",
    "        # 得到最大值（堆顶元素）然后调整堆\n",
    "        top = nums.pop()\n",
    "        if size > 0:\n",
    "            self.heapAdjust(nums, 0, size - 2)\n",
    "            \n",
    "        return top\n",
    "    \n",
    "    # 升序堆排序\n",
    "    def heapSort(self, nums):\n",
    "        self.heapify(nums)\n",
    "        size = len(nums)\n",
    "        for i in range(size):\n",
    "            nums[0], nums[size - i - 1] = nums[size - i - 1], nums[0]\n",
    "            self.heapAdjust(nums, 0, size - i - 2)\n",
    "        return nums\n"
   ]
  },
  {
   "cell_type": "code",
   "execution_count": 58,
   "metadata": {},
   "outputs": [
    {
     "name": "stdout",
     "output_type": "stream",
     "text": [
      "10\n"
     ]
    }
   ],
   "source": [
    "nums = [2, 7, 26, 25, 19, 17, 1, 90, 3, 36]\n",
    "\n",
    "print(len(nums))\n",
    "\n",
    "HQ = Heapq(nums)\n"
   ]
  },
  {
   "cell_type": "code",
   "execution_count": 59,
   "metadata": {},
   "outputs": [
    {
     "data": {
      "text/plain": [
       "10"
      ]
     },
     "execution_count": 59,
     "metadata": {},
     "output_type": "execute_result"
    }
   ],
   "source": [
    "len(HQ.nums)"
   ]
  },
  {
   "cell_type": "code",
   "execution_count": 60,
   "metadata": {},
   "outputs": [
    {
     "data": {
      "text/plain": [
       "[90, 36, 26, 25, 19, 17, 1, 7, 3, 2]"
      ]
     },
     "execution_count": 60,
     "metadata": {},
     "output_type": "execute_result"
    }
   ],
   "source": [
    "HQ.nums"
   ]
  },
  {
   "cell_type": "code",
   "execution_count": 53,
   "metadata": {},
   "outputs": [
    {
     "ename": "TypeError",
     "evalue": "Heapq.heappop() missing 1 required positional argument: 'nums'",
     "output_type": "error",
     "traceback": [
      "\u001b[1;31m---------------------------------------------------------------------------\u001b[0m",
      "\u001b[1;31mTypeError\u001b[0m                                 Traceback (most recent call last)",
      "Cell \u001b[1;32mIn[53], line 1\u001b[0m\n\u001b[1;32m----> 1\u001b[0m HQ\u001b[38;5;241m.\u001b[39mheappop()\n",
      "\u001b[1;31mTypeError\u001b[0m: Heapq.heappop() missing 1 required positional argument: 'nums'"
     ]
    }
   ],
   "source": [
    "HQ.heappop()"
   ]
  },
  {
   "cell_type": "code",
   "execution_count": 2,
   "metadata": {},
   "outputs": [
    {
     "name": "stdout",
     "output_type": "stream",
     "text": [
      "[(-5, 2), (-3, 0), (-4, 1)]\n",
      "(-5, 2)\n"
     ]
    }
   ],
   "source": [
    "import heapq\n",
    "\n",
    "nums = [3, 4, 5]\n",
    "\n",
    "q = []\n",
    "\n",
    "for i in range(len(nums)):\n",
    "    heapq.heappush(q, (-nums[i], i))\n",
    "\n",
    "print(q)\n",
    "\n",
    "print(q[0])"
   ]
  },
  {
   "cell_type": "code",
   "execution_count": null,
   "metadata": {},
   "outputs": [],
   "source": []
  }
 ],
 "metadata": {
  "kernelspec": {
   "display_name": "nanoml",
   "language": "python",
   "name": "nanoml"
  },
  "language_info": {
   "codemirror_mode": {
    "name": "ipython",
    "version": 3
   },
   "file_extension": ".py",
   "mimetype": "text/x-python",
   "name": "python",
   "nbconvert_exporter": "python",
   "pygments_lexer": "ipython3",
   "version": "3.11.7"
  }
 },
 "nbformat": 4,
 "nbformat_minor": 2
}
